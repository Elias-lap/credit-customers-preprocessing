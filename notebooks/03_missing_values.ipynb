{
 "cells": [
  {
   "cell_type": "code",
   "execution_count": 5,
   "id": "07a7250c",
   "metadata": {},
   "outputs": [
    {
     "name": "stdout",
     "output_type": "stream",
     "text": [
      "[]\n",
      "checking_status       0\n",
      "credit_history        0\n",
      "purpose               0\n",
      "savings_status        0\n",
      "employment            0\n",
      "property_magnitude    0\n",
      "housing               0\n",
      "dtype: int64\n",
      "checking_status       0\n",
      "credit_history        0\n",
      "purpose               0\n",
      "savings_status        0\n",
      "employment            0\n",
      "property_magnitude    0\n",
      "housing               0\n",
      "dtype: int64\n"
     ]
    }
   ],
   "source": [
    "import pandas as pd\n",
    "from sklearn.model_selection import train_test_split\n",
    "from sklearn.impute import SimpleImputer\n",
    "\n",
    "# 1) Load data\n",
    "df = pd.read_csv(\"../data/credit_customers (1).csv\")  \n",
    "\n",
    "# 2) Features/target\n",
    "X = df.drop(columns=[\"class\"])\n",
    "y = df[\"class\"]\n",
    "\n",
    "# 3) Find ONLY categorical cols that have missing values\n",
    "cat_cols = X.select_dtypes(include=[\"object\"]).columns\n",
    "cats_with_na = [c for c in cat_cols if X[c].isna().any()]\n",
    "\n",
    "# 4) Find ONLY numerical cols\n",
    "num_cols = X.select_dtypes(include=[\"int64\", \"float64\"]).columns\n",
    "num_cols_with_na = [c for c in num_cols if X[c].isna().any()]\n",
    "print(num_cols_with_na)\n",
    "\n",
    "# 5) Split (then fit on train, transform test)\n",
    "X_train, X_test, y_train, y_test = train_test_split(\n",
    "    X, y, test_size=0.2, random_state=42\n",
    ")\n",
    "\n",
    "# 6) Impute categorical with the mode (most frequent)\n",
    "cat_imputer = SimpleImputer(strategy=\"most_frequent\")\n",
    "X_train[cats_with_na] = cat_imputer.fit_transform(X_train[cats_with_na])\n",
    "X_test[cats_with_na]  = cat_imputer.transform(X_test[cats_with_na])\n",
    "\n",
    "# 6) Check\n",
    "print(X_train[cats_with_na].isna().sum())\n",
    "print(X_test[cats_with_na].isna().sum())\n"
   ]
  }
 ],
 "metadata": {
  "kernelspec": {
   "display_name": "base",
   "language": "python",
   "name": "python3"
  },
  "language_info": {
   "codemirror_mode": {
    "name": "ipython",
    "version": 3
   },
   "file_extension": ".py",
   "mimetype": "text/x-python",
   "name": "python",
   "nbconvert_exporter": "python",
   "pygments_lexer": "ipython3",
   "version": "3.13.5"
  }
 },
 "nbformat": 4,
 "nbformat_minor": 5
}
